{
 "cells": [
  {
   "cell_type": "code",
   "execution_count": 1,
   "metadata": {},
   "outputs": [],
   "source": [
    "import numpy as np\n",
    "import tqdm\n",
    "\n",
    "from attention.connect4_mcts.policy import Model as AttentionModel\n",
    "from attention.connect4_mcts.mcts import MCTS as AttentionMCTS\n",
    "from attention.connect4_mcts.players import MctsPlayer as AttentionPlayer\n",
    "\n",
    "from no_attention.connect4_mcts.policy import Model as ConvolutionModel\n",
    "from no_attention.connect4_mcts.players import MctsPlayer as ConvolutionPlayer\n",
    "from no_attention.connect4_mcts.mcts import MCTS as ConvolutionMCTS\n",
    "\n",
    "from attention.connect4_mcts.game import Game\n",
    "from attention.connect4_mcts.game import GameResult"
   ]
  },
  {
   "cell_type": "code",
   "execution_count": 2,
   "metadata": {},
   "outputs": [],
   "source": [
    "attention_model = AttentionModel(256, 1, 1, 'cpu')\n",
    "attention_model.load('attention/model.pt')\n",
    "convolution_model = ConvolutionModel(128, 10, 1, 'cpu')\n",
    "convolution_model.load('no_attention/model.pt')"
   ]
  },
  {
   "cell_type": "code",
   "execution_count": 3,
   "metadata": {},
   "outputs": [],
   "source": [
    "def play_game_attention_first(attention_model, convolution_model) -> float:\n",
    "    game = Game()\n",
    "    states = np.zeros((0, 4, 6, 7), np.float32)\n",
    "    attention_mcts = AttentionMCTS(1)\n",
    "    convolution_mcts = ConvolutionMCTS(1)\n",
    "    i = 0\n",
    "    while not game.is_terminal():\n",
    "        if i % 2 == 0:\n",
    "            probs, _wdl = attention_mcts.run(game, attention_model.policy_function, 180, states)\n",
    "            move = np.argmax(probs)\n",
    "        else:\n",
    "            probs, _wdl = convolution_mcts.run(game, convolution_model.policy_function, 180)\n",
    "            move = np.argmax(probs)\n",
    "        states = np.append(states, game.get_state()[None, ...], axis=0)\n",
    "        attention_mcts.make_move(move)\n",
    "        convolution_mcts.make_move(move)\n",
    "        game.make_move(move)\n",
    "        i += 1\n",
    "    if game.get_winner() == GameResult.RED_WINS:\n",
    "        return 1\n",
    "    if game.get_winner() == GameResult.DRAW:\n",
    "        return .5\n",
    "    if game.get_winner() == GameResult.RED_LOSES:\n",
    "        return 0\n",
    "    "
   ]
  },
  {
   "cell_type": "code",
   "execution_count": 4,
   "metadata": {},
   "outputs": [],
   "source": [
    "def play_game_convolution_first(attention_model, convolution_model) -> float:\n",
    "    game = Game()\n",
    "    states = np.zeros((0, 4, 6, 7), np.float32)\n",
    "    attention_mcts = AttentionMCTS(1)\n",
    "    convolution_mcts = ConvolutionMCTS(1)\n",
    "    i = 0\n",
    "    while not game.is_terminal():\n",
    "        if i % 2 == 1:\n",
    "            probs, _wdl = attention_mcts.run(game, attention_model.policy_function, 10, states)\n",
    "            move = np.argmax(probs)\n",
    "        else:\n",
    "            probs, _wdl = convolution_mcts.run(game, convolution_model.policy_function, 10)\n",
    "            move = np.argmax(probs)\n",
    "        states = np.append(states, game.get_state()[None, ...], axis=0)\n",
    "        attention_mcts.make_move(move)\n",
    "        convolution_mcts.make_move(move)\n",
    "        game.make_move(move)\n",
    "        i += 1\n",
    "    if game.get_winner() == GameResult.RED_WINS:\n",
    "        return 0\n",
    "    if game.get_winner() == GameResult.DRAW:\n",
    "        return .5\n",
    "    if game.get_winner() == GameResult.RED_LOSES:\n",
    "        return 1"
   ]
  },
  {
   "cell_type": "code",
   "execution_count": 5,
   "metadata": {},
   "outputs": [
    {
     "name": "stderr",
     "output_type": "stream",
     "text": [
      "100%|██████████| 10/10 [09:06<00:00, 54.65s/it]\n"
     ]
    }
   ],
   "source": [
    "score = 0\n",
    "for _ in tqdm.trange(10):\n",
    "    score += play_game_attention_first(attention_model, convolution_model)\n",
    "    score += play_game_convolution_first(attention_model, convolution_model)"
   ]
  },
  {
   "cell_type": "code",
   "execution_count": 8,
   "metadata": {},
   "outputs": [
    {
     "data": {
      "text/plain": [
       "14"
      ]
     },
     "execution_count": 8,
     "metadata": {},
     "output_type": "execute_result"
    }
   ],
   "source": [
    "score"
   ]
  },
  {
   "cell_type": "code",
   "execution_count": null,
   "metadata": {},
   "outputs": [],
   "source": []
  }
 ],
 "metadata": {
  "kernelspec": {
   "display_name": "Python 3.11.3 ('eleven')",
   "language": "python",
   "name": "python3"
  },
  "language_info": {
   "codemirror_mode": {
    "name": "ipython",
    "version": 3
   },
   "file_extension": ".py",
   "mimetype": "text/x-python",
   "name": "python",
   "nbconvert_exporter": "python",
   "pygments_lexer": "ipython3",
   "version": "3.11.3"
  },
  "orig_nbformat": 4,
  "vscode": {
   "interpreter": {
    "hash": "28c38045a217c3494aecda864b402de2332328bd6799c470faa4b728b2109968"
   }
  }
 },
 "nbformat": 4,
 "nbformat_minor": 2
}
